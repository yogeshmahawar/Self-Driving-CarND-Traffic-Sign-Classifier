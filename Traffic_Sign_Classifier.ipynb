{
 "cells": [
  {
   "cell_type": "markdown",
   "metadata": {},
   "source": [
    "# Self-Driving Car Engineer Nanodegree\n",
    "\n",
    "## Deep Learning\n",
    "\n",
    "## Project: Build a Traffic Sign Recognition Classifier\n",
    "\n",
    "In this notebook, a template is provided for you to implement your functionality in stages, which is required to successfully complete this project. If additional code is required that cannot be included in the notebook, be sure that the Python code is successfully imported and included in your submission if necessary. \n",
    "\n",
    "> **Note**: Once you have completed all of the code implementations, you need to finalize your work by exporting the iPython Notebook as an HTML document. Before exporting the notebook to html, all of the code cells need to have been run so that reviewers can see the final implementation and output. You can then export the notebook by using the menu above and navigating to  \\n\",\n",
    "    \"**File -> Download as -> HTML (.html)**. Include the finished document along with this notebook as your submission. \n",
    "\n",
    "In addition to implementing code, there is a writeup to complete. The writeup should be completed in a separate file, which can be either a markdown file or a pdf document. There is a [write up template](https://github.com/udacity/CarND-Traffic-Sign-Classifier-Project/blob/master/writeup_template.md) that can be used to guide the writing process. Completing the code template and writeup template will cover all of the [rubric points](https://review.udacity.com/#!/rubrics/481/view) for this project.\n",
    "\n",
    "The [rubric](https://review.udacity.com/#!/rubrics/481/view) contains \"Stand Out Suggestions\" for enhancing the project beyond the minimum requirements. The stand out suggestions are optional. If you decide to pursue the \"stand out suggestions\", you can include the code in this Ipython notebook and also discuss the results in the writeup file.\n",
    "\n",
    "\n",
    ">**Note:** Code and Markdown cells can be executed using the **Shift + Enter** keyboard shortcut. In addition, Markdown cells can be edited by typically double-clicking the cell to enter edit mode."
   ]
  },
  {
   "cell_type": "markdown",
   "metadata": {},
   "source": [
    "---\n",
    "## Step 0: Load The Data"
   ]
  },
  {
   "cell_type": "code",
   "execution_count": 23,
   "metadata": {},
   "outputs": [],
   "source": [
    "# Load pickled data\n",
    "import pickle\n",
    "\n",
    "# TODO: Fill this in based on where you saved the training and testing data\n",
    "\n",
    "training_file = \"traffic-signs-data/train.p\"\n",
    "validation_file=\"traffic-signs-data/valid.p\"\n",
    "testing_file = \"traffic-signs-data/test.p\"\n",
    "\n",
    "with open(training_file, mode='rb') as f:\n",
    "    train = pickle.load(f)\n",
    "with open(validation_file, mode='rb') as f:\n",
    "    valid = pickle.load(f)\n",
    "with open(testing_file, mode='rb') as f:\n",
    "    test = pickle.load(f)\n",
    "    \n",
    "X_train, y_train = train['features'], train['labels']\n",
    "X_valid, y_valid = valid['features'], valid['labels']\n",
    "X_test, y_test = test['features'], test['labels']"
   ]
  },
  {
   "cell_type": "markdown",
   "metadata": {},
   "source": [
    "---\n",
    "\n",
    "## Step 1: Dataset Summary & Exploration\n",
    "\n",
    "The pickled data is a dictionary with 4 key/value pairs:\n",
    "\n",
    "- `'features'` is a 4D array containing raw pixel data of the traffic sign images, (num examples, width, height, channels).\n",
    "- `'labels'` is a 1D array containing the label/class id of the traffic sign. The file `signnames.csv` contains id -> name mappings for each id.\n",
    "- `'sizes'` is a list containing tuples, (width, height) representing the original width and height the image.\n",
    "- `'coords'` is a list containing tuples, (x1, y1, x2, y2) representing coordinates of a bounding box around the sign in the image. **THESE COORDINATES ASSUME THE ORIGINAL IMAGE. THE PICKLED DATA CONTAINS RESIZED VERSIONS (32 by 32) OF THESE IMAGES**\n",
    "\n",
    "Complete the basic data summary below. Use python, numpy and/or pandas methods to calculate the data summary rather than hard coding the results. For example, the [pandas shape method](http://pandas.pydata.org/pandas-docs/stable/generated/pandas.DataFrame.shape.html) might be useful for calculating some of the summary results. "
   ]
  },
  {
   "cell_type": "markdown",
   "metadata": {},
   "source": [
    "### Provide a Basic Summary of the Data Set Using Python, Numpy and/or Pandas"
   ]
  },
  {
   "cell_type": "code",
   "execution_count": 24,
   "metadata": {},
   "outputs": [
    {
     "name": "stdout",
     "output_type": "stream",
     "text": [
      "Number of training examples = 34799\n",
      "Number of testing examples = 12630\n",
      "Image data shape = (32, 32, 3)\n",
      "Number of classes = 43\n"
     ]
    }
   ],
   "source": [
    "### Replace each question mark with the appropriate value. \n",
    "### Use python, pandas or numpy methods rather than hard coding the results\n",
    "\n",
    "# TODO: Number of training examples\n",
    "n_train = len(X_train)\n",
    "\n",
    "# TODO: Number of validation examples\n",
    "n_validation = len(X_valid)\n",
    "\n",
    "# TODO: Number of testing examples.\n",
    "n_test = len(X_test)\n",
    "\n",
    "# TODO: What's the shape of an traffic sign image?\n",
    "image_shape = X_train[0].shape\n",
    "\n",
    "# TODO: How many unique classes/labels there are in the dataset.\n",
    "n_classes = 43\n",
    "\n",
    "print(\"Number of training examples =\", n_train)\n",
    "print(\"Number of testing examples =\", n_test)\n",
    "print(\"Image data shape =\", image_shape)\n",
    "print(\"Number of classes =\", n_classes)"
   ]
  },
  {
   "cell_type": "markdown",
   "metadata": {},
   "source": [
    "### Observation\n",
    "\n",
    "1. The above printed shows that testing data is around 30% of training data.\n",
    "2. Shape of input image is having 3 channels so it will need to be converted into single channel image.\n",
    "3. No. of classes is 43 so network will need to be adjusted to keep no. of features accordingly. \n"
   ]
  },
  {
   "cell_type": "markdown",
   "metadata": {},
   "source": [
    "### Include an exploratory visualization of the dataset"
   ]
  },
  {
   "cell_type": "markdown",
   "metadata": {},
   "source": [
    "Visualize the German Traffic Signs Dataset using the pickled file(s). This is open ended, suggestions include: plotting traffic sign images, plotting the count of each sign, etc. \n",
    "\n",
    "The [Matplotlib](http://matplotlib.org/) [examples](http://matplotlib.org/examples/index.html) and [gallery](http://matplotlib.org/gallery.html) pages are a great resource for doing visualizations in Python.\n",
    "\n",
    "**NOTE:** It's recommended you start with something simple first. If you wish to do more, come back to it after you've completed the rest of the sections. It can be interesting to look at the distribution of classes in the training, validation and test set. Is the distribution the same? Are there more examples of some classes than others?"
   ]
  },
  {
   "cell_type": "code",
   "execution_count": 27,
   "metadata": {},
   "outputs": [
    {
     "name": "stdout",
     "output_type": "stream",
     "text": [
      "(32, 32, 3)\n",
      "25\n"
     ]
    },
    {
     "data": {
      "image/png": "[encoded data removed]",
      "text/plain": [
       "<matplotlib.figure.Figure at 0x26cceafa390>"
      ]
     },
     "metadata": {},
     "output_type": "display_data"
    }
   ],
   "source": [
    "### Data exploration visualization code goes here.\n",
    "### Feel free to use as many code cells as needed.\n",
    "import matplotlib.pyplot as plt\n",
    "import numpy as np\n",
    "# Visualizations will be shown in the notebook.\n",
    "%matplotlib inline\n",
    "#picking up random index\n",
    "import random\n",
    "index = random.randint(0, len(X_train))\n",
    "#Checking for an image\n",
    "image = X_train[index].squeeze()\n",
    "plt.figure(figsize=(2,2))\n",
    "plt.imshow(image)\n",
    "#knowing image shape and label\n",
    "print(image.shape)\n",
    "print(y_train[index])"
   ]
  },
  {
   "cell_type": "code",
   "execution_count": 26,
   "metadata": {},
   "outputs": [
    {
     "data": {
      "image/png": "[encoded data removed]",
      "text/plain": [
       "<matplotlib.figure.Figure at 0x26cce7e21d0>"
      ]
     },
     "metadata": {},
     "output_type": "display_data"
    }
   ],
   "source": [
    "#displaying no. of inputs vs label(class) of the input\n",
    "hist, bins = np.histogram(y_train, bins=n_classes)\n",
    "width = 0.8* (bins[1] - bins[0])\n",
    "center = (bins[:-1] + bins[1:]) / 2\n",
    "plt.bar(center, hist, align='center', width=width)\n",
    "plt.show()"
   ]
  },
  {
   "cell_type": "markdown",
   "metadata": {},
   "source": [
    "----\n",
    "\n",
    "## Step 2: Design and Test a Model Architecture\n",
    "\n",
    "Design and implement a deep learning model that learns to recognize traffic signs. Train and test your model on the [German Traffic Sign Dataset](http://benchmark.ini.rub.de/?section=gtsrb&subsection=dataset).\n",
    "\n",
    "The LeNet-5 implementation shown in the [classroom](https://classroom.udacity.com/nanodegrees/nd013/parts/fbf77062-5703-404e-b60c-95b78b2f3f9e/modules/6df7ae49-c61c-4bb2-a23e-6527e69209ec/lessons/601ae704-1035-4287-8b11-e2c2716217ad/concepts/d4aca031-508f-4e0b-b493-e7b706120f81) at the end of the CNN lesson is a solid starting point. You'll have to change the number of classes and possibly the preprocessing, but aside from that it's plug and play! \n",
    "\n",
    "With the LeNet-5 solution from the lecture, you should expect a validation set accuracy of about 0.89. To meet specifications, the validation set accuracy will need to be at least 0.93. It is possible to get an even higher accuracy, but 0.93 is the minimum for a successful project submission. \n",
    "\n",
    "There are various aspects to consider when thinking about this problem:\n",
    "\n",
    "- Neural network architecture (is the network over or underfitting?)\n",
    "- Play around preprocessing techniques (normalization, rgb to grayscale, etc)\n",
    "- Number of examples per label (some have more than others).\n",
    "- Generate fake data.\n",
    "\n",
    "Here is an example of a [published baseline model on this problem](http://yann.lecun.com/exdb/publis/pdf/sermanet-ijcnn-11.pdf). It's not required to be familiar with the approach used in the paper but, it's good practice to try to read papers like these."
   ]
  },
  {
   "cell_type": "markdown",
   "metadata": {},
   "source": [
    "### Pre-process the Data Set (normalization, grayscale, etc.)"
   ]
  },
  {
   "cell_type": "markdown",
   "metadata": {},
   "source": [
    "Minimally, the image data should be normalized so that the data has mean zero and equal variance. For image data, `(pixel - 128)/ 128` is a quick way to approximately normalize the data and can be used in this project. \n",
    "\n",
    "Other pre-processing steps are optional. You can try different techniques to see if it improves performance. \n",
    "\n",
    "Use the code cell (or multiple code cells, if necessary) to implement the first step of your project."
   ]
  },
  {
   "cell_type": "markdown",
   "metadata": {},
   "source": [
    "### Pre-processing Steps\n",
    "\n",
    "Function preProcessData takes image dataset as input. Since our neural network takes single channel image as input, we need to convert 3 channel input image to single channel image.\n",
    "Below steps are followed to do so\n",
    "1. taking average of all 3 channel values to convert to single channel.\n",
    "2. Normalizing value of each pixel in range of -1 to 1. ()\n",
    "3. Since depth(channel) of image is lost so need to reshape input data."
   ]
  },
  {
   "cell_type": "code",
   "execution_count": 28,
   "metadata": {},
   "outputs": [
    {
     "name": "stdout",
     "output_type": "stream",
     "text": [
      "training image set\n",
      "(34799, 32, 32, 1)\n",
      "(32, 32, 1)\n",
      "Validation image set\n",
      "(4410, 32, 32, 1)\n",
      "(32, 32, 1)\n",
      "test image set\n",
      "(12630, 32, 32, 1)\n",
      "(32, 32, 1)\n"
     ]
    },
    {
     "data": {
      "text/plain": [
       "<matplotlib.image.AxesImage at 0x26cce6d2ef0>"
      ]
     },
     "execution_count": 28,
     "metadata": {},
     "output_type": "execute_result"
    },
    {
     "data": {
      "image/png": "[encoded data removed]",
      "text/plain": [
       "<matplotlib.figure.Figure at 0x26cce878ef0>"
      ]
     },
     "metadata": {},
     "output_type": "display_data"
    }
   ],
   "source": [
    "### Preprocess the data here. It is required to normalize the data. Other preprocessing steps could include \n",
    "### converting to grayscale, etc.\n",
    "### Feel free to use as many code cells as needed.\n",
    "import tensorflow as tf\n",
    "from sklearn.utils import shuffle\n",
    "X_train, y_train = shuffle(X_train, y_train)\n",
    "\n",
    "def preProcessData(img_data):\n",
    "    #normalize with r+g+b/3 calculationwise fast, no library import and shit\n",
    "    img_data =np.divide(np.subtract(np.average(img_data,axis=3),128.0),128.0)    \n",
    "    img_data =np.reshape(img_data,(img_data.shape[0],img_data.shape[1],img_data.shape[2],1))\n",
    "    print(img_data.shape)\n",
    "    return img_data\n",
    "print(\"training image set\")\n",
    "X_train = preProcessData(X_train)\n",
    "print(X_train[0].shape)\n",
    "print(\"Validation image set\")\n",
    "X_valid = preProcessData(X_valid)\n",
    "print(X_valid[0].shape)\n",
    "print(\"test image set\")\n",
    "X_test = preProcessData(X_test)\n",
    "print(X_test[0].shape)\n",
    "\n",
    "img_after = X_train[index].squeeze()\n",
    "plt.figure(figsize=(2,2))\n",
    "plt.imshow(img_after)"
   ]
  },
  {
   "cell_type": "markdown",
   "metadata": {},
   "source": [
    "After pre-processing image now it is converted to single channel iamge. Image data is now ready to be passed through the network. "
   ]
  },
  {
   "cell_type": "markdown",
   "metadata": {},
   "source": [
    "### Model Architecture\n",
    "\n",
    "Lenet model is used as neural network. Where dropout is applied on output of layer 3 and layer 4. Dropout is applied only while training the network on training data otherwise all the neurons are retained. "
   ]
  },
  {
   "cell_type": "code",
   "execution_count": 6,
   "metadata": {},
   "outputs": [],
   "source": [
    "### Define your architecture here.\n",
    "### Feel free to use as many code cells as needed.\n",
    "from tensorflow.contrib.layers import flatten\n",
    "def netArch(x):\n",
    "    mu = 0\n",
    "    sigma = 0.1\n",
    "        \n",
    "    #convo :layer 1    \n",
    "    F_W_convo1 = tf.Variable(tf.truncated_normal(shape=(5,5,1,6),mean = mu, stddev = sigma))\n",
    "    B_W_convo1 = tf.Variable(tf.zeros(6))\n",
    "    convo_1 = tf.nn.conv2d(x , F_W_convo1, strides=[1, 1, 1, 1] , padding='VALID') + B_W_convo1\n",
    "    #activation\n",
    "    convo_1 = tf.nn.relu(convo_1)\n",
    "    #max_pooling\n",
    "    convo_1 = tf.nn.max_pool(convo_1, ksize=[1, 2, 2, 1], strides=[1, 2, 2, 1], padding='VALID')    \n",
    "    #convo :layer 2\n",
    "    F_W_convo2 = tf.Variable(tf.truncated_normal(shape=(5,5,6,16), mean = mu , stddev = sigma))\n",
    "    B_W_convo2 = tf.Variable(tf.zeros(16))\n",
    "    convo_2 = tf.nn.conv2d(convo_1,F_W_convo2, strides=[1, 1, 1, 1],padding='VALID' )\n",
    "    #activation\n",
    "    convo_2 = tf.nn.relu(convo_2)\n",
    "    #max_pooling\n",
    "    convo_2 = tf.nn.max_pool(convo_2, ksize = [1,2,2,1],strides= [1,2,2,1],padding = 'VALID')\n",
    "    #moving to fully connected  :layer 3\n",
    "    fc0   = flatten(convo_2)\n",
    "    fc1_W = tf.Variable(tf.truncated_normal(shape=(400, 120), mean = mu, stddev = sigma))\n",
    "    fc1_b = tf.Variable(tf.zeros(120))\n",
    "    fc1   = tf.matmul(fc0, fc1_W) + fc1_b\n",
    "    #activation\n",
    "    fc1  = tf.nn.relu(fc1)    \n",
    "    fc1 = tf.nn.dropout(fc1,keep_p1)\n",
    "    \n",
    "    #moving to fully connected :layer 4\n",
    "    fc2_W  = tf.Variable(tf.truncated_normal(shape=(120, 84), mean = mu, stddev = sigma))\n",
    "    fc2_b  = tf.Variable(tf.zeros(84))\n",
    "    fc2    = tf.matmul(fc1, fc2_W) + fc2_b\n",
    "    #activation\n",
    "    fc2  = tf.nn.relu(fc2)\n",
    "    fc2 = tf.nn.dropout(fc2,keep_p2)\n",
    "    #moving to  : layer 5\n",
    "    fc3_W = tf.Variable(tf.truncated_normal(shape = (84,43), mean = mu, stddev = sigma))\n",
    "    fc3_b = tf.Variable(tf.zeros(43))\n",
    "    logits = tf.matmul(fc2, fc3_W) + fc3_b\n",
    "    return logits\n",
    "    \n",
    "    "
   ]
  },
  {
   "cell_type": "markdown",
   "metadata": {},
   "source": [
    "### Train, Validate and Test the Model"
   ]
  },
  {
   "cell_type": "markdown",
   "metadata": {},
   "source": [
    "A validation set can be used to assess how well the model is performing. A low accuracy on the training and validation\n",
    "sets imply underfitting. A high accuracy on the training set but low accuracy on the validation set implies overfitting."
   ]
  },
  {
   "cell_type": "code",
   "execution_count": 7,
   "metadata": {},
   "outputs": [],
   "source": [
    "#All constant values\n",
    "\n",
    "EPOCHS = 100\n",
    "BATCH_SIZE = 128\n",
    "rate = 0.001"
   ]
  },
  {
   "cell_type": "code",
   "execution_count": 8,
   "metadata": {},
   "outputs": [],
   "source": [
    "#Placeholders input image data and labels\n",
    "x = tf.placeholder(tf.float32, (None, 32, 32, 1))\n",
    "y = tf.placeholder(tf.int32, (None))\n",
    "#Placeholder for dropout on layer 3\n",
    "keep_p1 = tf.placeholder(tf.float32) \n",
    "#Placeholder for dropout on layer 4\n",
    "keep_p2 = tf.placeholder(tf.float32)\n",
    "#one_hot for output placeholder\n",
    "one_hot_y = tf.one_hot(y, 43)"
   ]
  },
  {
   "cell_type": "code",
   "execution_count": 9,
   "metadata": {},
   "outputs": [],
   "source": [
    "#loss operation and training operation\n",
    "logits = netArch(x)\n",
    "cross_entropy = tf.nn.softmax_cross_entropy_with_logits(labels=one_hot_y, logits=logits)\n",
    "loss_operation = tf.reduce_mean(cross_entropy)\n",
    "#Adam optimizer\n",
    "optimizer = tf.train.AdamOptimizer(learning_rate = rate)\n",
    "training_operation = optimizer.minimize(loss_operation)\n",
    "\n",
    "#cost reduction\n",
    "correct_prediction = tf.equal(tf.argmax(logits, 1), tf.argmax(one_hot_y, 1))\n",
    "accuracy_operation = tf.reduce_mean(tf.cast(correct_prediction, tf.float32))\n",
    "#save the network\n",
    "saver = tf.train.Saver()"
   ]
  },
  {
   "cell_type": "code",
   "execution_count": 10,
   "metadata": {},
   "outputs": [],
   "source": [
    "#Evaluation step\n",
    "def evaluate(X_data, y_data, p1, p2):\n",
    "    num_examples = len(X_data)\n",
    "    total_accuracy = 0\n",
    "    sess = tf.get_default_session()\n",
    "    for offset in range(0, num_examples, BATCH_SIZE):\n",
    "        batch_x, batch_y = X_data[offset:offset+BATCH_SIZE], y_data[offset:offset+BATCH_SIZE]\n",
    "        accuracy = sess.run(accuracy_operation, feed_dict={x: batch_x, y: batch_y , keep_p1 : p1,keep_p2 : p2})\n",
    "        total_accuracy += (accuracy * len(batch_x))\n",
    "    return total_accuracy / num_examples\n"
   ]
  },
  {
   "cell_type": "code",
   "execution_count": 11,
   "metadata": {
    "scrolled": false
   },
   "outputs": [
    {
     "name": "stdout",
     "output_type": "stream",
     "text": [
      "Training...\n",
      "\n",
      "EPOCH 1 ... Validation Accuracy = 0.685        Training Accuracy = 0.622\n",
      "\n",
      "EPOCH 2 ... Validation Accuracy = 0.836        Training Accuracy = 0.801\n",
      "\n",
      "EPOCH 3 ... Validation Accuracy = 0.887        Training Accuracy = 0.867\n",
      "\n",
      "EPOCH 4 ... Validation Accuracy = 0.911        Training Accuracy = 0.900\n",
      "\n",
      "EPOCH 5 ... Validation Accuracy = 0.924        Training Accuracy = 0.920\n",
      "\n",
      "EPOCH 6 ... Validation Accuracy = 0.929        Training Accuracy = 0.935\n",
      "\n",
      "EPOCH 7 ... Validation Accuracy = 0.919        Training Accuracy = 0.941\n",
      "\n",
      "EPOCH 8 ... Validation Accuracy = 0.939        Training Accuracy = 0.953\n",
      "\n",
      "EPOCH 9 ... Validation Accuracy = 0.936        Training Accuracy = 0.955\n",
      "\n",
      "EPOCH 10 ... Validation Accuracy = 0.934        Training Accuracy = 0.961\n",
      "\n",
      "EPOCH 11 ... Validation Accuracy = 0.938        Training Accuracy = 0.966\n",
      "\n",
      "EPOCH 12 ... Validation Accuracy = 0.933        Training Accuracy = 0.969\n",
      "\n",
      "EPOCH 13 ... Validation Accuracy = 0.944        Training Accuracy = 0.971\n",
      "\n",
      "EPOCH 14 ... Validation Accuracy = 0.940        Training Accuracy = 0.974\n",
      "\n",
      "EPOCH 15 ... Validation Accuracy = 0.942        Training Accuracy = 0.975\n",
      "\n",
      "EPOCH 16 ... Validation Accuracy = 0.945        Training Accuracy = 0.977\n",
      "\n",
      "EPOCH 17 ... Validation Accuracy = 0.944        Training Accuracy = 0.975\n",
      "\n",
      "EPOCH 18 ... Validation Accuracy = 0.948        Training Accuracy = 0.980\n",
      "\n",
      "EPOCH 19 ... Validation Accuracy = 0.947        Training Accuracy = 0.977\n",
      "\n",
      "EPOCH 20 ... Validation Accuracy = 0.943        Training Accuracy = 0.981\n",
      "\n",
      "EPOCH 21 ... Validation Accuracy = 0.944        Training Accuracy = 0.982\n",
      "\n",
      "EPOCH 22 ... Validation Accuracy = 0.949        Training Accuracy = 0.984\n",
      "\n",
      "EPOCH 23 ... Validation Accuracy = 0.944        Training Accuracy = 0.982\n",
      "\n",
      "EPOCH 24 ... Validation Accuracy = 0.954        Training Accuracy = 0.985\n",
      "\n",
      "EPOCH 25 ... Validation Accuracy = 0.945        Training Accuracy = 0.985\n",
      "\n",
      "EPOCH 26 ... Validation Accuracy = 0.949        Training Accuracy = 0.985\n",
      "\n",
      "EPOCH 27 ... Validation Accuracy = 0.953        Training Accuracy = 0.987\n",
      "\n",
      "EPOCH 28 ... Validation Accuracy = 0.947        Training Accuracy = 0.985\n",
      "\n",
      "EPOCH 29 ... Validation Accuracy = 0.948        Training Accuracy = 0.987\n",
      "\n",
      "EPOCH 30 ... Validation Accuracy = 0.949        Training Accuracy = 0.988\n",
      "\n",
      "EPOCH 31 ... Validation Accuracy = 0.954        Training Accuracy = 0.988\n",
      "\n",
      "EPOCH 32 ... Validation Accuracy = 0.949        Training Accuracy = 0.986\n",
      "\n",
      "EPOCH 33 ... Validation Accuracy = 0.950        Training Accuracy = 0.988\n",
      "\n",
      "EPOCH 34 ... Validation Accuracy = 0.949        Training Accuracy = 0.989\n",
      "\n",
      "EPOCH 35 ... Validation Accuracy = 0.947        Training Accuracy = 0.990\n",
      "\n",
      "EPOCH 36 ... Validation Accuracy = 0.947        Training Accuracy = 0.990\n",
      "\n",
      "EPOCH 37 ... Validation Accuracy = 0.952        Training Accuracy = 0.991\n",
      "\n",
      "EPOCH 38 ... Validation Accuracy = 0.950        Training Accuracy = 0.992\n",
      "\n",
      "EPOCH 39 ... Validation Accuracy = 0.949        Training Accuracy = 0.991\n",
      "\n",
      "EPOCH 40 ... Validation Accuracy = 0.944        Training Accuracy = 0.985\n",
      "\n",
      "EPOCH 41 ... Validation Accuracy = 0.949        Training Accuracy = 0.991\n",
      "\n",
      "EPOCH 42 ... Validation Accuracy = 0.949        Training Accuracy = 0.991\n",
      "\n",
      "EPOCH 43 ... Validation Accuracy = 0.957        Training Accuracy = 0.989\n",
      "\n",
      "EPOCH 44 ... Validation Accuracy = 0.943        Training Accuracy = 0.990\n",
      "\n",
      "EPOCH 45 ... Validation Accuracy = 0.949        Training Accuracy = 0.992\n",
      "\n",
      "EPOCH 46 ... Validation Accuracy = 0.950        Training Accuracy = 0.992\n",
      "\n",
      "EPOCH 47 ... Validation Accuracy = 0.953        Training Accuracy = 0.992\n",
      "\n",
      "EPOCH 48 ... Validation Accuracy = 0.949        Training Accuracy = 0.991\n",
      "\n",
      "EPOCH 49 ... Validation Accuracy = 0.949        Training Accuracy = 0.992\n",
      "\n",
      "EPOCH 50 ... Validation Accuracy = 0.949        Training Accuracy = 0.992\n",
      "\n",
      "EPOCH 51 ... Validation Accuracy = 0.950        Training Accuracy = 0.994\n",
      "\n",
      "EPOCH 52 ... Validation Accuracy = 0.945        Training Accuracy = 0.993\n",
      "\n",
      "EPOCH 53 ... Validation Accuracy = 0.951        Training Accuracy = 0.991\n",
      "\n",
      "EPOCH 54 ... Validation Accuracy = 0.949        Training Accuracy = 0.993\n",
      "\n",
      "EPOCH 55 ... Validation Accuracy = 0.954        Training Accuracy = 0.992\n",
      "\n",
      "EPOCH 56 ... Validation Accuracy = 0.958        Training Accuracy = 0.994\n",
      "\n",
      "EPOCH 57 ... Validation Accuracy = 0.953        Training Accuracy = 0.994\n",
      "\n",
      "EPOCH 58 ... Validation Accuracy = 0.947        Training Accuracy = 0.992\n",
      "\n",
      "EPOCH 59 ... Validation Accuracy = 0.952        Training Accuracy = 0.993\n",
      "\n",
      "EPOCH 60 ... Validation Accuracy = 0.956        Training Accuracy = 0.994\n",
      "\n",
      "EPOCH 61 ... Validation Accuracy = 0.941        Training Accuracy = 0.993\n",
      "\n",
      "EPOCH 62 ... Validation Accuracy = 0.949        Training Accuracy = 0.994\n",
      "\n",
      "EPOCH 63 ... Validation Accuracy = 0.949        Training Accuracy = 0.994\n",
      "\n",
      "EPOCH 64 ... Validation Accuracy = 0.950        Training Accuracy = 0.994\n",
      "\n",
      "EPOCH 65 ... Validation Accuracy = 0.954        Training Accuracy = 0.994\n",
      "\n",
      "EPOCH 66 ... Validation Accuracy = 0.944        Training Accuracy = 0.993\n",
      "\n",
      "EPOCH 67 ... Validation Accuracy = 0.952        Training Accuracy = 0.993\n",
      "\n",
      "EPOCH 68 ... Validation Accuracy = 0.952        Training Accuracy = 0.993\n",
      "\n",
      "EPOCH 69 ... Validation Accuracy = 0.957        Training Accuracy = 0.995\n",
      "\n",
      "EPOCH 70 ... Validation Accuracy = 0.954        Training Accuracy = 0.995\n",
      "\n",
      "EPOCH 71 ... Validation Accuracy = 0.951        Training Accuracy = 0.994\n",
      "\n",
      "EPOCH 72 ... Validation Accuracy = 0.949        Training Accuracy = 0.992\n",
      "\n",
      "EPOCH 73 ... Validation Accuracy = 0.954        Training Accuracy = 0.995\n",
      "\n",
      "EPOCH 74 ... Validation Accuracy = 0.953        Training Accuracy = 0.996\n",
      "\n",
      "EPOCH 75 ... Validation Accuracy = 0.951        Training Accuracy = 0.995\n",
      "\n",
      "EPOCH 76 ... Validation Accuracy = 0.953        Training Accuracy = 0.994\n",
      "\n",
      "EPOCH 77 ... Validation Accuracy = 0.956        Training Accuracy = 0.994\n",
      "\n",
      "EPOCH 78 ... Validation Accuracy = 0.953        Training Accuracy = 0.994\n",
      "\n",
      "EPOCH 79 ... Validation Accuracy = 0.959        Training Accuracy = 0.995\n",
      "\n",
      "EPOCH 80 ... Validation Accuracy = 0.954        Training Accuracy = 0.995\n",
      "\n",
      "EPOCH 81 ... Validation Accuracy = 0.954        Training Accuracy = 0.995\n",
      "\n",
      "EPOCH 82 ... Validation Accuracy = 0.944        Training Accuracy = 0.994\n",
      "\n",
      "EPOCH 83 ... Validation Accuracy = 0.957        Training Accuracy = 0.995\n",
      "\n",
      "EPOCH 84 ... Validation Accuracy = 0.951        Training Accuracy = 0.993\n",
      "\n",
      "EPOCH 85 ... Validation Accuracy = 0.947        Training Accuracy = 0.994\n",
      "\n",
      "EPOCH 86 ... Validation Accuracy = 0.953        Training Accuracy = 0.996\n",
      "\n",
      "EPOCH 87 ... Validation Accuracy = 0.957        Training Accuracy = 0.994\n",
      "\n",
      "EPOCH 88 ... Validation Accuracy = 0.956        Training Accuracy = 0.995\n",
      "\n",
      "EPOCH 89 ... Validation Accuracy = 0.949        Training Accuracy = 0.995\n",
      "\n",
      "EPOCH 90 ... Validation Accuracy = 0.955        Training Accuracy = 0.995\n",
      "\n",
      "EPOCH 91 ... Validation Accuracy = 0.950        Training Accuracy = 0.995\n",
      "\n",
      "EPOCH 92 ... Validation Accuracy = 0.956        Training Accuracy = 0.996\n",
      "\n",
      "EPOCH 93 ... Validation Accuracy = 0.956        Training Accuracy = 0.996\n",
      "\n",
      "EPOCH 94 ... Validation Accuracy = 0.954        Training Accuracy = 0.994\n",
      "\n",
      "EPOCH 95 ... Validation Accuracy = 0.947        Training Accuracy = 0.992\n",
      "\n",
      "EPOCH 96 ... Validation Accuracy = 0.954        Training Accuracy = 0.996\n",
      "\n",
      "EPOCH 97 ... Validation Accuracy = 0.953        Training Accuracy = 0.994\n",
      "\n",
      "EPOCH 98 ... Validation Accuracy = 0.954        Training Accuracy = 0.996\n",
      "\n",
      "EPOCH 99 ... Validation Accuracy = 0.958        Training Accuracy = 0.994\n",
      "\n",
      "EPOCH 100 ... Validation Accuracy = 0.960        Training Accuracy = 0.995\n",
      "\n",
      "Model saved\n"
     ]
    }
   ],
   "source": [
    "### Train your model here.\n",
    "\n",
    "batches = [ ]\n",
    "loss_array = [ ]\n",
    "#steps after to log loss data\n",
    "log_batch_gap = 500\n",
    "with tf.Session() as sess:\n",
    "    #saver.restore(sess, save_file)  \n",
    "    sess.run(tf.global_variables_initializer())\n",
    "    num_examples = len(X_train)\n",
    "    \n",
    "    print(\"Training...\")\n",
    "    print()\n",
    "    for i in range(EPOCHS):\n",
    "        X_train, y_train = shuffle(X_train, y_train)\n",
    "        for offset in range(0, num_examples, BATCH_SIZE):\n",
    "            end = offset + BATCH_SIZE\n",
    "            batch_x, batch_y = X_train[offset:end], y_train[offset:end]\n",
    "            _,loss =sess.run([training_operation, loss_operation], feed_dict={x: batch_x, y: batch_y, keep_p1 : 0.8,keep_p2 : 0.6})\n",
    "            if not offset % log_batch_gap:\n",
    "                #print(loss)\n",
    "                prev_batch = batches[-1] if batches else 0\n",
    "                batches.append(log_batch_gap + prev_batch)\n",
    "                loss_array.append(loss)    \n",
    "        #Not droping neurons while validating\n",
    "        train_accuracy = evaluate(X_train,y_train, 0.8, 0.6)\n",
    "        validation_accuracy = evaluate(X_valid, y_valid,1.0,1.0)\n",
    "        print(\"EPOCH {} ...\".format(i+1),\"Validation Accuracy = {:.3f}   \".format(validation_accuracy), \"    Training Accuracy = {:.3f}\".format(train_accuracy))\n",
    "        print()\n",
    "        \n",
    "    saver.save(sess, './lenet')\n",
    "    print(\"Model saved\")\n",
    "### Calculate and report the accuracy on the training and validation set.\n",
    "### Once a final model architecture is selected, \n",
    "### the accuracy on the test set should be calculated and reported as well.\n",
    "### Feel free to use as many code cells as needed."
   ]
  },
  {
   "cell_type": "markdown",
   "metadata": {},
   "source": [
    "# Loss curve"
   ]
  },
  {
   "cell_type": "code",
   "execution_count": 12,
   "metadata": {},
   "outputs": [
    {
     "data": {
      "text/plain": [
       "<function matplotlib.pyplot.show>"
      ]
     },
     "execution_count": 12,
     "metadata": {},
     "output_type": "execute_result"
    },
    {
     "data": {
      "image/png": "[encoded data removed]",
      "text/plain": [
       "<matplotlib.figure.Figure at 0x26ccc9a7a20>"
      ]
     },
     "metadata": {},
     "output_type": "display_data"
    }
   ],
   "source": [
    "loss_plot = plt.subplot(111)\n",
    "loss_plot.plot(batches, loss_array, 'g')\n",
    "loss_plot.set_xlim([batches[0], batches[-1]])\n",
    "plt.show"
   ]
  },
  {
   "cell_type": "markdown",
   "metadata": {},
   "source": [
    "# Evaluation on Test Data\n",
    "\n",
    "Parsing test dataset to get test accuracy."
   ]
  },
  {
   "cell_type": "code",
   "execution_count": 13,
   "metadata": {},
   "outputs": [
    {
     "name": "stdout",
     "output_type": "stream",
     "text": [
      "Test Accuracy = 0.943\n"
     ]
    }
   ],
   "source": [
    "with tf.Session() as sess:\n",
    "    #restoring session from last checkpoint / loading trained model\n",
    "    saver.restore(sess, tf.train.latest_checkpoint('.'))     \n",
    "    test_accuracy = evaluate(X_test, y_test, 1.0, 1.0)\n",
    "    print(\"Test Accuracy = {:.3f}\".format(test_accuracy))"
   ]
  },
  {
   "cell_type": "markdown",
   "metadata": {},
   "source": [
    "---\n",
    "\n",
    "## Step 3: Test a Model on New Images\n",
    "\n",
    "To give yourself more insight into how your model is working, download at least five pictures of German traffic signs from the web and use your model to predict the traffic sign type.\n",
    "\n",
    "You may find `signnames.csv` useful as it contains mappings from the class id (integer) to the actual sign name."
   ]
  },
  {
   "cell_type": "markdown",
   "metadata": {},
   "source": [
    "### Load and Output the Images"
   ]
  },
  {
   "cell_type": "code",
   "execution_count": 14,
   "metadata": {},
   "outputs": [
    {
     "data": {
      "image/png": "[encoded data removed]",
      "text/plain": [
       "<matplotlib.figure.Figure at 0x26cce1d1940>"
      ]
     },
     "metadata": {},
     "output_type": "display_data"
    }
   ],
   "source": [
    "### Load the images and plot them here.\n",
    "### Feel free to use as many code cells as needed.\n",
    "import cv2\n",
    "import glob\n",
    "import matplotlib.image as mpimg\n",
    "\n",
    "fig, axs = plt.subplots(1,10, figsize=(10, 1))\n",
    "fig.subplots_adjust(hspace = .2, wspace=.1)\n",
    "axs = axs.ravel()\n",
    "my_images = []\n",
    "\n",
    "# displaying all 10 images \n",
    "for i, img in enumerate(glob.glob('./new_images/*.jpg')):\n",
    "    image = cv2.imread(img)\n",
    "    axs[i].axis('off')\n",
    "    axs[i].imshow(cv2.cvtColor(image, cv2.COLOR_BGR2RGB))    \n",
    "    image = cv2.cvtColor(image, cv2.COLOR_BGR2RGB)\n",
    "    #images are resized to 32x32 since our network takes input of 32x32 \n",
    "    image = cv2.resize(image,(32,32))\n",
    "    my_images.append(image)"
   ]
  },
  {
   "cell_type": "markdown",
   "metadata": {},
   "source": [
    "### Predict the Sign Type for Each Image"
   ]
  },
  {
   "cell_type": "code",
   "execution_count": 15,
   "metadata": {},
   "outputs": [
    {
     "name": "stdout",
     "output_type": "stream",
     "text": [
      "(10, 32, 32, 1)\n",
      "pred_lbl :  [14 17  1 26 25 28 34 35 16  9]\n",
      "Final Accuracy = 0.600\n"
     ]
    }
   ],
   "source": [
    "### Run the predictions here and use the model to output the prediction for each image.\n",
    "### Make sure to pre-process the images with the same pre-processing pipeline used earlier.\n",
    "### Feel free to use as many code cells as needed.\n",
    "\n",
    "#preprocessing data\n",
    "my_images = preProcessData(my_images)\n",
    "\n",
    "my_labels = [14, 17, 2, 22, 25, 29, 34, 35, 5, 9]\n",
    "\n",
    "my_accuracy = 0.0\n",
    "\n",
    "with tf.Session() as sess:\n",
    "    saver3 = tf.train.import_meta_graph('./lenet.meta')\n",
    "    saver3.restore(sess, \"./lenet\")\n",
    "    pred_log = sess.run(logits, feed_dict={x: my_images, y: my_labels, keep_p1: 1.0, keep_p2: 1.0})\n",
    "    pred_lbl = np.argmax(pred_log,axis=1)\n",
    "    print(\"pred_lbl : \" , pred_lbl)\n",
    "    my_accuracy = evaluate(my_images, my_labels,1.0,1.0)\n",
    "    print(\"Final Accuracy = {:.3f}\".format(my_accuracy))"
   ]
  },
  {
   "cell_type": "markdown",
   "metadata": {},
   "source": [
    "### Analyze Performance"
   ]
  },
  {
   "cell_type": "code",
   "execution_count": 16,
   "metadata": {},
   "outputs": [],
   "source": [
    "### Calculate the accuracy for these 5 new images. \n",
    "### For example, if the model predicted 1 out of 5 signs correctly, it's 20% accurate on these new images."
   ]
  },
  {
   "cell_type": "markdown",
   "metadata": {},
   "source": [
    "### Output Top 5 Softmax Probabilities For Each Image Found on the Web"
   ]
  },
  {
   "cell_type": "markdown",
   "metadata": {},
   "source": [
    "For each of the new images, print out the model's softmax probabilities to show the **certainty** of the model's predictions (limit the output to the top 5 probabilities for each image). [`tf.nn.top_k`](https://www.tensorflow.org/versions/r0.12/api_docs/python/nn.html#top_k) could prove helpful here. \n",
    "\n",
    "The example below demonstrates how tf.nn.top_k can be used to find the top k predictions for each image.\n",
    "\n",
    "`tf.nn.top_k` will return the values and indices (class ids) of the top k predictions. So if k=3, for each sign, it'll return the 3 largest probabilities (out of a possible 43) and the correspoding class ids.\n",
    "\n",
    "Take this numpy array as an example. The values in the array represent predictions. The array contains softmax probabilities for five candidate images with six possible classes. `tf.nn.top_k` is used to choose the three classes with the highest probability:\n",
    "\n",
    "```\n",
    "# (5, 6) array\n",
    "a = np.array([[ 0.24879643,  0.07032244,  0.12641572,  0.34763842,  0.07893497,\n",
    "         0.12789202],\n",
    "       [ 0.28086119,  0.27569815,  0.08594638,  0.0178669 ,  0.18063401,\n",
    "         0.15899337],\n",
    "       [ 0.26076848,  0.23664738,  0.08020603,  0.07001922,  0.1134371 ,\n",
    "         0.23892179],\n",
    "       [ 0.11943333,  0.29198961,  0.02605103,  0.26234032,  0.1351348 ,\n",
    "         0.16505091],\n",
    "       [ 0.09561176,  0.34396535,  0.0643941 ,  0.16240774,  0.24206137,\n",
    "         0.09155967]])\n",
    "```\n",
    "\n",
    "Running it through `sess.run(tf.nn.top_k(tf.constant(a), k=3))` produces:\n",
    "\n",
    "```\n",
    "TopKV2(values=array([[ 0.34763842,  0.24879643,  0.12789202],\n",
    "       [ 0.28086119,  0.27569815,  0.18063401],\n",
    "       [ 0.26076848,  0.23892179,  0.23664738],\n",
    "       [ 0.29198961,  0.26234032,  0.16505091],\n",
    "       [ 0.34396535,  0.24206137,  0.16240774]]), indices=array([[3, 0, 5],\n",
    "       [0, 1, 4],\n",
    "       [0, 5, 1],\n",
    "       [1, 3, 5],\n",
    "       [1, 4, 3]], dtype=int32))\n",
    "```\n",
    "\n",
    "Looking just at the first row we get `[ 0.34763842,  0.24879643,  0.12789202]`, you can confirm these are the 3 largest probabilities in `a`. You'll also notice `[3, 0, 5]` are the corresponding indices."
   ]
  },
  {
   "cell_type": "code",
   "execution_count": 17,
   "metadata": {},
   "outputs": [
    {
     "name": "stdout",
     "output_type": "stream",
     "text": [
      "TopKV2(values=array([[9.99983311e-01, 9.11827556e-06, 5.97807548e-06, 7.92422156e-07,\n",
      "        6.28333510e-07],\n",
      "       [1.00000000e+00, 0.00000000e+00, 0.00000000e+00, 0.00000000e+00,\n",
      "        0.00000000e+00],\n",
      "       [1.00000000e+00, 6.01118305e-29, 4.55140306e-35, 0.00000000e+00,\n",
      "        0.00000000e+00],\n",
      "       [9.99974608e-01, 2.51842139e-05, 1.36329390e-07, 2.21694112e-08,\n",
      "        2.68354904e-11],\n",
      "       [1.00000000e+00, 5.69664162e-13, 1.48233713e-14, 2.21488464e-15,\n",
      "        1.14142984e-16],\n",
      "       [9.65143442e-01, 3.23487818e-02, 2.48215161e-03, 1.03619195e-05,\n",
      "        9.34415129e-06],\n",
      "       [9.94352698e-01, 4.48922860e-03, 1.03775563e-03, 7.72533458e-05,\n",
      "        3.04797686e-05],\n",
      "       [1.00000000e+00, 4.51906139e-08, 3.96778432e-08, 3.02399261e-09,\n",
      "        7.47845327e-11],\n",
      "       [9.98707652e-01, 1.10457640e-03, 1.85043391e-04, 2.72662828e-06,\n",
      "        1.25558147e-10],\n",
      "       [9.99918580e-01, 5.82226930e-05, 2.32605216e-05, 1.20974901e-08,\n",
      "        1.31041467e-09]], dtype=float32), indices=array([[14,  4, 13, 15, 12],\n",
      "       [17,  0,  1,  2,  3],\n",
      "       [ 1,  0, 40,  2,  3],\n",
      "       [26, 22, 18, 25, 29],\n",
      "       [25, 20, 30, 22, 26],\n",
      "       [28, 23, 20, 35, 19],\n",
      "       [34,  8, 26, 35, 28],\n",
      "       [35, 36, 13, 25, 20],\n",
      "       [16,  3, 11,  5, 42],\n",
      "       [ 9, 41, 17, 10, 20]]))\n"
     ]
    }
   ],
   "source": [
    "### Print out the top five softmax probabilities for the predictions on the German traffic sign images found on the web. \n",
    "### Feel free to use as many code cells as needed.\n",
    "\n",
    "softmax = tf.nn.softmax(logits)\n",
    "top_5 = tf.nn.top_k(softmax, k=5)\n",
    "\n",
    "with tf.Session() as sess:\n",
    "    saver_net = tf.train.import_meta_graph('./lenet.meta')\n",
    "    saver_net.restore(sess, \"./lenet\")\n",
    "    my_top_k= sess.run(top_5, feed_dict={x: my_images, keep_p1: 1.0, keep_p2: 1.0})\n",
    "    print(my_top_k)"
   ]
  },
  {
   "cell_type": "markdown",
   "metadata": {},
   "source": [
    "> **Note**: Once you have completed all of the code implementations and successfully answered each question above, you may finalize your work by exporting the iPython Notebook as an HTML document. You can do this by using the menu above and navigating to  \\n\",\n",
    "    \"**File -> Download as -> HTML (.html)**. Include the finished document along with this notebook as your submission."
   ]
  },
  {
   "cell_type": "markdown",
   "metadata": {},
   "source": [
    "---\n",
    "\n",
    "## Step 4 (Optional): Visualize the Neural Network's State with Test Images\n",
    "\n",
    " This Section is not required to complete but acts as an additional excersise for understaning the output of a neural network's weights. While neural networks can be a great learning device they are often referred to as a black box. We can understand what the weights of a neural network look like better by plotting their feature maps. After successfully training your neural network you can see what it's feature maps look like by plotting the output of the network's weight layers in response to a test stimuli image. From these plotted feature maps, it's possible to see what characteristics of an image the network finds interesting. For a sign, maybe the inner network feature maps react with high activation to the sign's boundary outline or to the contrast in the sign's painted symbol.\n",
    "\n",
    " Provided for you below is the function code that allows you to get the visualization output of any tensorflow weight layer you want. The inputs to the function should be a stimuli image, one used during training or a new one you provided, and then the tensorflow variable name that represents the layer's state during the training process, for instance if you wanted to see what the [LeNet lab's](https://classroom.udacity.com/nanodegrees/nd013/parts/fbf77062-5703-404e-b60c-95b78b2f3f9e/modules/6df7ae49-c61c-4bb2-a23e-6527e69209ec/lessons/601ae704-1035-4287-8b11-e2c2716217ad/concepts/d4aca031-508f-4e0b-b493-e7b706120f81) feature maps looked like for it's second convolutional layer you could enter conv2 as the tf_activation variable.\n",
    "\n",
    "For an example of what feature map outputs look like, check out NVIDIA's results in their paper [End-to-End Deep Learning for Self-Driving Cars](https://devblogs.nvidia.com/parallelforall/deep-learning-self-driving-cars/) in the section Visualization of internal CNN State. NVIDIA was able to show that their network's inner weights had high activations to road boundary lines by comparing feature maps from an image with a clear path to one without. Try experimenting with a similar test to show that your trained network's weights are looking for interesting features, whether it's looking at differences in feature maps from images with or without a sign, or even what feature maps look like in a trained network vs a completely untrained one on the same sign image.\n",
    "\n",
    "<figure>\n",
    " <img src=\"visualize_cnn.png\" width=\"380\" alt=\"Combined Image\" />\n",
    " <figcaption>\n",
    " <p></p> \n",
    " <p style=\"text-align: center;\"> Your output should look something like this (above)</p> \n",
    " </figcaption>\n",
    "</figure>\n",
    " <p></p> \n"
   ]
  },
  {
   "cell_type": "code",
   "execution_count": 18,
   "metadata": {},
   "outputs": [],
   "source": [
    "### Visualize your network's feature maps here.\n",
    "### Feel free to use as many code cells as needed.\n",
    "\n",
    "# image_input: the test image being fed into the network to produce the feature maps\n",
    "# tf_activation: should be a tf variable name used during your training procedure that represents the calculated state of a specific weight layer\n",
    "# activation_min/max: can be used to view the activation contrast in more detail, by default matplot sets min and max to the actual min and max values of the output\n",
    "# plt_num: used to plot out multiple different weight feature map sets on the same block, just extend the plt number for each new feature map entry\n",
    "\n",
    "def outputFeatureMap(image_input, tf_activation, activation_min=-1, activation_max=-1 ,plt_num=1):\n",
    "    # Here make sure to preprocess your image_input in a way your network expects\n",
    "    # with size, normalization, ect if needed\n",
    "    # image_input =\n",
    "    # Note: x should be the same name as your network's tensorflow data placeholder variable\n",
    "    # If you get an error tf_activation is not defined it may be having trouble accessing the variable from inside a function\n",
    "    activation = tf_activation.eval(session=sess,feed_dict={x : image_input})\n",
    "    featuremaps = activation.shape[3]\n",
    "    plt.figure(plt_num, figsize=(15,15))\n",
    "    for featuremap in range(featuremaps):\n",
    "        plt.subplot(6,8, featuremap+1) # sets the number of feature maps to show on each row and column\n",
    "        plt.title('FeatureMap ' + str(featuremap)) # displays the feature map number\n",
    "        if activation_min != -1 & activation_max != -1:\n",
    "            plt.imshow(activation[0,:,:, featuremap], interpolation=\"nearest\", vmin =activation_min, vmax=activation_max, cmap=\"gray\")\n",
    "        elif activation_max != -1:\n",
    "            plt.imshow(activation[0,:,:, featuremap], interpolation=\"nearest\", vmax=activation_max, cmap=\"gray\")\n",
    "        elif activation_min !=-1:\n",
    "            plt.imshow(activation[0,:,:, featuremap], interpolation=\"nearest\", vmin=activation_min, cmap=\"gray\")\n",
    "        else:\n",
    "            plt.imshow(activation[0,:,:, featuremap], interpolation=\"nearest\", cmap=\"gray\")"
   ]
  }
 ],
 "metadata": {
  "anaconda-cloud": {},
  "kernelspec": {
   "display_name": "Python 3",
   "language": "python",
   "name": "python3"
  },
  "language_info": {
   "codemirror_mode": {
    "name": "ipython",
    "version": 3
   },
   "file_extension": ".py",
   "mimetype": "text/x-python",
   "name": "python",
   "nbconvert_exporter": "python",
   "pygments_lexer": "ipython3",
   "version": "3.5.2"
  },
  "widgets": {
   "state": {},
   "version": "1.1.2"
  }
 },
 "nbformat": 4,
 "nbformat_minor": 1
}
